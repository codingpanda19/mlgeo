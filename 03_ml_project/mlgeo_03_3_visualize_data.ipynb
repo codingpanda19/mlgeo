{
 "cells": [
  {
   "cell_type": "markdown",
   "id": "62f933ae",
   "metadata": {},
   "source": [
    "# ___\n",
    "\n",
    "# [ Machine Learning in Geosciences ]\n",
    "\n",
    "**Department of Applied Geoinformatics and Carthography, Charles University** \n",
    "\n",
    "*Lukas Brodsky lukas.brodsky@natur.cuni.cz*\n",
    "\n",
    "    \n",
    "___\n"
   ]
  },
  {
   "cell_type": "markdown",
   "id": "c425873f",
   "metadata": {},
   "source": [
    "# Machine Learning Project!\n",
    "\n",
    "Step 3\n",
    "\n",
    "Goal: This notebook demonstrates the **data dicovery and visualization** step.  \n",
    "\n",
    "\n",
    "Content:  **Data discovery and visualization**\n",
    "\n",
    "    3.1/ Visualizing geographical and non-geographical data)\n",
    "    3.2/ Looking for correlations\n",
    "    3.3/ Experimenting with attribute combinations (optional) \n",
    "___    "
   ]
  },
  {
   "cell_type": "markdown",
   "id": "dde77e9d",
   "metadata": {},
   "source": [
    "## Setup environment"
   ]
  },
  {
   "cell_type": "code",
   "execution_count": null,
   "id": "224e6df5",
   "metadata": {},
   "outputs": [],
   "source": [
    "# Common imports\n",
    "import numpy as np\n",
    "import os\n",
    "\n",
    "# add more based on the topic of the lab\n",
    "\n",
    "# to make this notebook's output stable across runs\n",
    "np.random.seed(42)\n",
    "\n",
    "# plotting \n",
    "import matplotlib.pyplot as plt\n",
    "import matplotlib as mpl\n",
    "%matplotlib inline\n",
    "mpl.rc('axes', labelsize=14)\n",
    "mpl.rc('xtick', labelsize=12)\n",
    "mpl.rc('ytick', labelsize=12)\n",
    "\n",
    "# path to the current lab directory - set individually!!!\n",
    "# TODO HERE! \n",
    "PROJECT_DIR = \"./\"\n",
    "if os.path.isdir(PROJECT_DIR): \n",
    "    print('Ok continue.')\n",
    "else: \n",
    "    print('Nok, set correct path to your project directory!')\n"
   ]
  },
  {
   "cell_type": "code",
   "execution_count": null,
   "id": "6ff8057b",
   "metadata": {},
   "outputs": [],
   "source": [
    "import pandas as pd\n",
    "\n",
    "# check the data set dir \n",
    "forest_path = os.path.join(PROJECT_DIR, \"forest_fires\")\n",
    "print(os.listdir(forest_path))\n",
    "\n",
    "# function to read the csv file \n",
    "def load_local_data(data_path, csv_file):\n",
    "    csv_path = os.path.join(data_path, csv_file)\n",
    "    return pd.read_csv(csv_path)\n",
    "\n",
    "# load data \n",
    "fires = load_local_data(forest_path, \"forestfires.csv\")\n",
    "\n",
    "# check header and some values \n",
    "fires.head()"
   ]
  },
  {
   "cell_type": "markdown",
   "id": "4f65fc21",
   "metadata": {},
   "source": [
    "### Plotting"
   ]
  },
  {
   "cell_type": "code",
   "execution_count": null,
   "id": "99196e81",
   "metadata": {},
   "outputs": [],
   "source": [
    "plt.rcParams[\"figure.figsize\"] = (10,8)\n",
    "plt.scatter(fires['X'], fires['Y'], \n",
    "            c=fires['area'], s=fires['area'], \n",
    "            cmap=\"jet\", alpha=0.5)\n",
    "\n",
    "plt.colorbar(label=\"area\")\n",
    "plt.show()"
   ]
  },
  {
   "cell_type": "markdown",
   "id": "ac1adf2f",
   "metadata": {},
   "source": [
    "### Correlations"
   ]
  },
  {
   "cell_type": "code",
   "execution_count": null,
   "id": "640ab0d0",
   "metadata": {},
   "outputs": [],
   "source": [
    "corr_matrix = fires.corr() "
   ]
  },
  {
   "cell_type": "code",
   "execution_count": null,
   "id": "674a1a76",
   "metadata": {},
   "outputs": [],
   "source": [
    "corr_matrix[\"area\"].sort_values(ascending=False) "
   ]
  },
  {
   "cell_type": "code",
   "execution_count": null,
   "id": "a14d06ad",
   "metadata": {},
   "outputs": [],
   "source": [
    "# old: from pandas.tools.plotting import scatter_matrix\n",
    "from pandas.plotting import scatter_matrix\n",
    "\n",
    "attributes = [\"temp\", \"DMC\", \"DC\",\n",
    "              \"area\"]\n",
    "scatter_matrix(fires[attributes], figsize=(12, 8), alpha=0.5)"
   ]
  },
  {
   "cell_type": "code",
   "execution_count": null,
   "id": "d1f8a0d0",
   "metadata": {},
   "outputs": [],
   "source": [
    "fires.plot(kind=\"scatter\", x=\"temp\", y=\"DMC\", alpha=0.5)"
   ]
  },
  {
   "cell_type": "code",
   "execution_count": null,
   "id": "06e85bc0",
   "metadata": {},
   "outputs": [],
   "source": []
  },
  {
   "cell_type": "code",
   "execution_count": null,
   "id": "ce2b8f2a",
   "metadata": {},
   "outputs": [],
   "source": [
    "# 3.3/ Experimenting with attribute combinations (optional) \n",
    "\n",
    "# Fine Fuel Moisture Code (FFMC), Duff Moisture Code (DMC), Drought Code (DC), Initial Spread Index (ISI)\n",
    "# FFMC(rain, temperature, wind), DMC(rain, humidity, temperature), DC(rain, temperature) \n",
    "# and ISI(FFMC, humidity, rain) are already compound indicators. \n"
   ]
  }
 ],
 "metadata": {
  "kernelspec": {
   "display_name": "Python 3 (ipykernel)",
   "language": "python",
   "name": "python3"
  },
  "language_info": {
   "codemirror_mode": {
    "name": "ipython",
    "version": 3
   },
   "file_extension": ".py",
   "mimetype": "text/x-python",
   "name": "python",
   "nbconvert_exporter": "python",
   "pygments_lexer": "ipython3",
   "version": "3.9.10"
  }
 },
 "nbformat": 4,
 "nbformat_minor": 5
}
