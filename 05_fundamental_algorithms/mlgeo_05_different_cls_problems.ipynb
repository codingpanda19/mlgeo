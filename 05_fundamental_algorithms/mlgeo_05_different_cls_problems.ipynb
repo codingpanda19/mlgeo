{
 "cells": [
  {
   "cell_type": "markdown",
   "metadata": {},
   "source": [
    "___\n",
    "\n",
    "# Machine Learning in Geosciences ] \n",
    "Department of Applied Geoinformatics and Carthography, Charles University\n",
    "\n",
    "Lukas Brodsky lukas.brodsky@natur.cuni.cz\n"
   ]
  },
  {
   "cell_type": "markdown",
   "metadata": {},
   "source": [
    "## Fundamental Algorithms in Scikit learn applied to different classification problems\n"
   ]
  },
  {
   "cell_type": "markdown",
   "metadata": {},
   "source": [
    "Purpose: explore selected classification algoritms based on simulated synthetic data set. \n"
   ]
  },
  {
   "cell_type": "markdown",
   "metadata": {},
   "source": [
    "# Setup"
   ]
  },
  {
   "cell_type": "code",
   "execution_count": null,
   "metadata": {},
   "outputs": [],
   "source": [
    "# Common imports for reading, visualizing\n",
    "import os\n",
    "import numpy as np\n",
    "import pandas as pd\n",
    "import matplotlib.pyplot as plt\n",
    "\n",
    "# data preparattion \n",
    "from sklearn.datasets import make_classification # make_blobs\n",
    "from sklearn.datasets import make_moons\n",
    "from sklearn.datasets import make_circles\n",
    "\n",
    "from sklearn.model_selection import train_test_split\n",
    "\n",
    "# Classifiers\n",
    "# linear\n",
    "from sklearn.linear_model import LogisticRegression\n",
    "# trees\n",
    "from sklearn.tree import DecisionTreeClassifier\n",
    "from sklearn.ensemble import RandomForestClassifier\n",
    "# SVM \n",
    "from sklearn.svm import LinearSVC\n",
    "from sklearn.svm import SVC\n",
    "# TODO later on neural network \n",
    "\n",
    "# accuracy assesment \n",
    "from sklearn import metrics\n",
    "# tuning\n",
    "from sklearn.preprocessing import StandardScaler\n",
    "from sklearn.pipeline import Pipeline\n",
    "from sklearn.model_selection import GridSearchCV, KFold\n",
    "from sklearn.model_selection import cross_val_score\n",
    "\n",
    "# to make this notebook's output stable across runs\n",
    "np.random.seed(42)\n",
    "\n",
    "# To plot pretty figures\n",
    "%matplotlib inline\n",
    "import matplotlib as mpl\n",
    "import matplotlib.pyplot as plt\n",
    "mpl.rc('axes', labelsize=14)\n",
    "mpl.rc('xtick', labelsize=12)\n",
    "mpl.rc('ytick', labelsize=12)\n",
    "\n",
    "# Project dir\n",
    "PROJECT_DIR = \"./\"\n",
    "if os.path.isdir(PROJECT_DIR):\n",
    "    print('Ok continue.')\n",
    "else:\n",
    "    print('Nok, set correct path to your project directory!')\n"
   ]
  },
  {
   "cell_type": "markdown",
   "metadata": {},
   "source": [
    "## Get the simulated data\n"
   ]
  },
  {
   "cell_type": "markdown",
   "metadata": {},
   "source": [
    "### Linear / non-linear blobs classification problem"
   ]
  },
  {
   "cell_type": "markdown",
   "metadata": {},
   "source": [
    "Sklearn's method `make_classification` generate a random n-class classification problem.\n",
    "\n",
    "* creates **clusters of points** normally distributed (std=1); \n",
    "* about vertices of an **n_informative-dimensional hypercube** \n",
    "* with sides of length **2*class_sep**;     \n",
    "* it introduces **interdependence between these features** and adds various types of further **noise** to the data.\n",
    "\n",
    "* features are contained in the columns X[:, :n_informative + n_redundant + n_repeated] (without shuffling)\n",
    "\n",
    "* **shuffling** horizontally stacks features in the following order: n_informative features, n_redundant linear combinations of the informative features, n_repeated duplicates\n",
    "* remaining features are filled with random noise \n",
    "\n",
    "\n",
    "`sklearn.datasets.make_classification(n_samples=100, n_features=20, n_informative=2, n_redundant=2, n_repeated=0, n_classes=2, n_clusters_per_class=2, shuffle=True, random_state=None)`"
   ]
  },
  {
   "cell_type": "markdown",
   "metadata": {},
   "source": [
    "Similarly `make_blobs` generates isotropic Gaussian blobs for clustering."
   ]
  },
  {
   "cell_type": "markdown",
   "metadata": {},
   "source": [
    "### Non-linear moons shape classification problem"
   ]
  },
  {
   "cell_type": "markdown",
   "metadata": {},
   "source": [
    "The `make_moons()` function is for binary classification and will generate a swirl pattern, or two moons. One can control how noisy the moon shapes are and the number of samples to generate. \n",
    "\n",
    "This test problem is suitable **for algorithms that are capable of learning nonlinear class boundaries**."
   ]
  },
  {
   "cell_type": "markdown",
   "metadata": {},
   "source": [
    "### Non-linear circles shape classification problem"
   ]
  },
  {
   "cell_type": "markdown",
   "metadata": {},
   "source": [
    "The `make_circles()` function generates a binary classification problem with datasets that fall into concentric circles. Again, as with the moons test problem, you can control the amount of noise in the shapes. \n",
    "\n",
    "This test problem is **suitable for algorithms that can learn complex non-linear manifolds**.\n"
   ]
  },
  {
   "cell_type": "markdown",
   "metadata": {},
   "source": [
    "### Data set 1"
   ]
  },
  {
   "cell_type": "code",
   "execution_count": null,
   "metadata": {},
   "outputs": [],
   "source": [
    "# create synthetic data set 1\n",
    "X1, y1 = make_classification(n_samples = 1000, n_features = 10, n_informative = 5, n_redundant = 5, \n",
    "                          class_sep = 3, n_clusters_per_class=1, \n",
    "                          random_state = 42, shuffle = True) "
   ]
  },
  {
   "cell_type": "code",
   "execution_count": null,
   "metadata": {},
   "outputs": [],
   "source": [
    "plt.plot(X1[(y1==0),0], X1[(y1==0),1], 'r.')\n",
    "plt.plot(X1[(y1==1),0], X1[(y1==1),1], 'b.')"
   ]
  },
  {
   "cell_type": "code",
   "execution_count": null,
   "metadata": {},
   "outputs": [],
   "source": [
    "# Numpy array to pandas dataframe\n",
    "features = [f\"Feature {ii+1}\" for ii in range(X1.shape[1])]\n",
    "X1 = pd.DataFrame(X1, columns = features)\n",
    "y1 = pd.DataFrame(y1, columns = [\"Target\"])"
   ]
  },
  {
   "cell_type": "code",
   "execution_count": null,
   "metadata": {},
   "outputs": [],
   "source": [
    "X1.head()"
   ]
  },
  {
   "cell_type": "markdown",
   "metadata": {},
   "source": [
    "### Data set 2"
   ]
  },
  {
   "cell_type": "code",
   "execution_count": null,
   "metadata": {},
   "outputs": [],
   "source": [
    "# create synthetic data set 1\n",
    "X2, y2 = make_classification(n_samples = 1000, n_features = 10, n_informative = 5, n_redundant = 5, \n",
    "                          class_sep = 1, n_clusters_per_class=1, \n",
    "                          random_state = 42, shuffle = True) "
   ]
  },
  {
   "cell_type": "code",
   "execution_count": null,
   "metadata": {},
   "outputs": [],
   "source": [
    "plt.plot(X2[(y2==0),0], X2[(y2==0),1], 'r.')\n",
    "plt.plot(X2[(y2==1),0], X2[(y2==1),1], 'b.')"
   ]
  },
  {
   "cell_type": "code",
   "execution_count": null,
   "metadata": {},
   "outputs": [],
   "source": [
    "# Numpy array to pandas dataframe\n",
    "features = [f\"Feature {ii+1}\" for ii in range(X2.shape[1])]\n",
    "X2 = pd.DataFrame(X2, columns = features)\n",
    "y2 = pd.DataFrame(y2, columns = [\"Target\"])"
   ]
  },
  {
   "cell_type": "code",
   "execution_count": null,
   "metadata": {},
   "outputs": [],
   "source": [
    "X2.head()"
   ]
  },
  {
   "cell_type": "markdown",
   "metadata": {},
   "source": [
    "### Data set 3"
   ]
  },
  {
   "cell_type": "code",
   "execution_count": null,
   "metadata": {},
   "outputs": [],
   "source": [
    "X3, y3 = make_moons(n_samples=1000,  noise=0.1)"
   ]
  },
  {
   "cell_type": "code",
   "execution_count": null,
   "metadata": {},
   "outputs": [],
   "source": [
    "plt.plot(X3[(y3==0),0], X3[(y3==0),1], 'r.')\n",
    "plt.plot(X3[(y3==1),0], X3[(y3==1),1], 'b.')"
   ]
  },
  {
   "cell_type": "code",
   "execution_count": null,
   "metadata": {},
   "outputs": [],
   "source": [
    "# Numpy array to pandas dataframe\n",
    "features = [f\"Feature {ii+1}\" for ii in range(X3.shape[1])]\n",
    "X3 = pd.DataFrame(X3, columns = features)\n",
    "y3 = pd.DataFrame(y3, columns = [\"Target\"])"
   ]
  },
  {
   "cell_type": "code",
   "execution_count": null,
   "metadata": {},
   "outputs": [],
   "source": [
    "X3.head()"
   ]
  },
  {
   "cell_type": "markdown",
   "metadata": {},
   "source": [
    "### Data set 4"
   ]
  },
  {
   "cell_type": "code",
   "execution_count": null,
   "metadata": {},
   "outputs": [],
   "source": [
    "X4, y4 = make_moons(n_samples=1000,  noise=0.3)"
   ]
  },
  {
   "cell_type": "code",
   "execution_count": null,
   "metadata": {},
   "outputs": [],
   "source": [
    "plt.plot(X4[(y4==0),0], X4[(y4==0),1], 'r.')\n",
    "plt.plot(X4[(y4==1),0], X4[(y4==1),1], 'b.')"
   ]
  },
  {
   "cell_type": "code",
   "execution_count": null,
   "metadata": {},
   "outputs": [],
   "source": [
    "# Numpy array to pandas dataframe\n",
    "features = [f\"Feature {ii+1}\" for ii in range(X4.shape[1])]\n",
    "X4 = pd.DataFrame(X4, columns = features)\n",
    "y4 = pd.DataFrame(y4, columns = [\"Target\"])"
   ]
  },
  {
   "cell_type": "code",
   "execution_count": null,
   "metadata": {},
   "outputs": [],
   "source": [
    "X4.head()"
   ]
  },
  {
   "cell_type": "markdown",
   "metadata": {},
   "source": [
    "### Data set 5"
   ]
  },
  {
   "cell_type": "code",
   "execution_count": null,
   "metadata": {},
   "outputs": [],
   "source": [
    "X5, y5 = make_circles(n_samples=1000, noise=0.09)"
   ]
  },
  {
   "cell_type": "code",
   "execution_count": null,
   "metadata": {},
   "outputs": [],
   "source": [
    "plt.plot(X5[(y5==0),0], X5[(y5==0),1], 'r.')\n",
    "plt.plot(X5[(y5==1),0], X5[(y5==1),1], 'b.')"
   ]
  },
  {
   "cell_type": "code",
   "execution_count": null,
   "metadata": {},
   "outputs": [],
   "source": []
  },
  {
   "cell_type": "markdown",
   "metadata": {},
   "source": [
    "## Create train and test set    "
   ]
  },
  {
   "cell_type": "code",
   "execution_count": null,
   "metadata": {},
   "outputs": [],
   "source": [
    "# test 20 % \n",
    "pass"
   ]
  },
  {
   "cell_type": "markdown",
   "metadata": {},
   "source": [
    "## Select clasifiers & instantiate"
   ]
  },
  {
   "cell_type": "code",
   "execution_count": null,
   "metadata": {},
   "outputs": [],
   "source": [
    "# instantiate classifiers \n",
    "\n",
    "# logistic regression\n",
    "log_clf = LogisticRegression(random_state=42)\n",
    "\n",
    "# SVM (suppor vector classifier) \n",
    "lsvc_cls = LinearSVC(random_state=42)\n",
    "nsvc_cls = SVC(random_state=42)\n",
    "\n",
    "# trees\n",
    "dt_clf = DecisionTreeClassifier(random_state=42)\n",
    "rf_clf = RandomForestClassifier(random_state=42)"
   ]
  },
  {
   "cell_type": "code",
   "execution_count": null,
   "metadata": {},
   "outputs": [],
   "source": [
    "# pass"
   ]
  },
  {
   "cell_type": "code",
   "execution_count": null,
   "metadata": {},
   "outputs": [],
   "source": [
    "# here is a set of hyper-parameters toselect from \n",
    "\n",
    "# Logistic regression\n",
    "log_param_grid = [\n",
    "                  {'penalty': [\"l1\", \"l2\"]} \n",
    "                 ]\n",
    "\n",
    "# SVM\n",
    "lsvc_param_grid = [\n",
    "                   {\"C\": [0.0001, 0.001, 0.01, 0.1, 1.0, 10, 100]}\n",
    "                  ]\n",
    "\n",
    "nsvc_param_grid = [\n",
    "                    {\"kernel\": [\"linear\", \"rbf\", \"poly\"],\n",
    "                     \"gamma\": [\"auto\"],\n",
    "                     \"C\": [0.1, 0.5, 1, 5, 10, 50, 100]\n",
    "                    }\n",
    "                  ]\n",
    "\n",
    "\n",
    "# Tree classifiers\n",
    "dt_param_grid = [\n",
    "                    {\n",
    "                     \"max_depth\" : [2, 5, 10],\n",
    "                     # \"criterion\": [\"gini\", \"entropy\"], \n",
    "                     \"min_samples_split\": [0.01, 0.05, 0.10],\n",
    "                     \"min_samples_leaf\": [0.01, 0.05, 0.10]\n",
    "                    }\n",
    "                 ]\n",
    "\n",
    "rf_param_grid = [\n",
    "                    {\n",
    "                    \"n_estimators\": [3, 10, 50, 100],\n",
    "                    \"max_depth\" : [2, 5, 10],\n",
    "                    # \"criterion\": [\"gini\", \"entropy\"], \n",
    "                    'max_features': [2, 4, 6, 8, 12], \n",
    "                    \"min_samples_split\": [0.01, 0.05, 0.10],\n",
    "                    \"min_samples_leaf\": [0.01, 0.05, 0.10],\n",
    "                    \"n_jobs\": [-1]\n",
    "                    }\n",
    "                 ]\n"
   ]
  },
  {
   "cell_type": "markdown",
   "metadata": {},
   "source": [
    "## Tune the classifier "
   ]
  },
  {
   "cell_type": "code",
   "execution_count": null,
   "metadata": {},
   "outputs": [],
   "source": [
    "pass\n"
   ]
  },
  {
   "cell_type": "code",
   "execution_count": null,
   "metadata": {},
   "outputs": [],
   "source": []
  },
  {
   "cell_type": "markdown",
   "metadata": {},
   "source": [
    "## Evaluate the model "
   ]
  },
  {
   "cell_type": "code",
   "execution_count": null,
   "metadata": {},
   "outputs": [],
   "source": [
    "pass"
   ]
  },
  {
   "cell_type": "code",
   "execution_count": null,
   "metadata": {},
   "outputs": [],
   "source": []
  },
  {
   "cell_type": "code",
   "execution_count": null,
   "metadata": {},
   "outputs": [],
   "source": [
    "# Which model works well for the data set 1, 2, 3, 4 and 5? "
   ]
  },
  {
   "cell_type": "code",
   "execution_count": null,
   "metadata": {},
   "outputs": [],
   "source": []
  }
 ],
 "metadata": {
  "kernelspec": {
   "display_name": "Python 3 (ipykernel)",
   "language": "python",
   "name": "python3"
  },
  "language_info": {
   "codemirror_mode": {
    "name": "ipython",
    "version": 3
   },
   "file_extension": ".py",
   "mimetype": "text/x-python",
   "name": "python",
   "nbconvert_exporter": "python",
   "pygments_lexer": "ipython3",
   "version": "3.9.10"
  },
  "nav_menu": {
   "height": "252px",
   "width": "333px"
  },
  "toc": {
   "navigate_menu": true,
   "number_sections": true,
   "sideBar": true,
   "threshold": 6,
   "toc_cell": false,
   "toc_section_display": "block",
   "toc_window_display": false
  }
 },
 "nbformat": 4,
 "nbformat_minor": 1
}
