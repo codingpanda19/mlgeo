{
 "cells": [
  {
   "cell_type": "markdown",
   "metadata": {},
   "source": [
    "___\n",
    "\n",
    "# Machine Learning in Geosciences ] \n",
    "Department of Applied Geoinformatics and Carthography, Charles University\n",
    "\n",
    "Lukas Brodsky lukas.brodsky@natur.cuni.cz\n"
   ]
  },
  {
   "cell_type": "markdown",
   "metadata": {},
   "source": [
    "## Python-ogr vectors\n"
   ]
  },
  {
   "cell_type": "markdown",
   "metadata": {},
   "source": [
    "Thi notebook introduces how to work with vector data in Python using ogr/gdal binding. It covers: \n",
    "\n",
    "* 1. Reading vector data; \n",
    "\n",
    "* 2. Cycling over features; \n",
    "\n",
    "* 3. Creating a new data source and layer; \n"
   ]
  },
  {
   "cell_type": "markdown",
   "metadata": {},
   "source": [
    "### Setup"
   ]
  },
  {
   "cell_type": "code",
   "execution_count": 4,
   "metadata": {},
   "outputs": [
    {
     "name": "stdout",
     "output_type": "stream",
     "text": [
      "ok\n"
     ]
    }
   ],
   "source": [
    "# Common imports for reading, visualizing\n",
    "import os\n",
    "import sys\n",
    "import matplotlib.pyplot as plt \n",
    "%matplotlib inline \n",
    "\n",
    "# import ogr\n",
    "from osgeo import ogr\n",
    "\n",
    "# Set your own PATH!!! \n",
    "PATH = './data/'\n",
    "\n",
    "if os.path.isdir(PATH): \n",
    "    print('ok')"
   ]
  },
  {
   "cell_type": "markdown",
   "metadata": {},
   "source": [
    "### Get data "
   ]
  },
  {
   "cell_type": "code",
   "execution_count": 5,
   "metadata": {},
   "outputs": [],
   "source": [
    "vector_fn = os.path.join(PATH, 'polygons.shp')"
   ]
  },
  {
   "cell_type": "code",
   "execution_count": 6,
   "metadata": {},
   "outputs": [
    {
     "name": "stdout",
     "output_type": "stream",
     "text": [
      "ok\n"
     ]
    }
   ],
   "source": [
    "if os.path.isfile(vector_fn): \n",
    "    print('ok')\n",
    "else: \n",
    "    print('Check your path to the vector file!')"
   ]
  },
  {
   "cell_type": "markdown",
   "metadata": {},
   "source": [
    "### Reading vector"
   ]
  },
  {
   "cell_type": "code",
   "execution_count": 7,
   "metadata": {},
   "outputs": [],
   "source": [
    "# get the shapefile driver\n",
    "driver = ogr.GetDriverByName('ESRI Shapefile')"
   ]
  },
  {
   "cell_type": "code",
   "execution_count": 8,
   "metadata": {},
   "outputs": [
    {
     "data": {
      "text/plain": [
       "<osgeo.ogr.Driver; proxy of <Swig Object of type 'OGRDriverShadow *' at 0x1141197e0> >"
      ]
     },
     "execution_count": 8,
     "metadata": {},
     "output_type": "execute_result"
    }
   ],
   "source": [
    "driver"
   ]
  },
  {
   "cell_type": "code",
   "execution_count": 9,
   "metadata": {},
   "outputs": [],
   "source": [
    "# open the data source\n",
    "datasource = driver.Open(vector_fn, 0)\n",
    "if datasource is None:\n",
    "  print('Could not open file')\n",
    "  sys.exit(1)"
   ]
  },
  {
   "cell_type": "code",
   "execution_count": 8,
   "metadata": {},
   "outputs": [
    {
     "data": {
      "text/plain": [
       "<osgeo.ogr.DataSource; proxy of <Swig Object of type 'OGRDataSourceShadow *' at 0x11df09a50> >"
      ]
     },
     "execution_count": 8,
     "metadata": {},
     "output_type": "execute_result"
    }
   ],
   "source": [
    "datasource"
   ]
  },
  {
   "cell_type": "code",
   "execution_count": 9,
   "metadata": {},
   "outputs": [],
   "source": [
    "# get the data layer\n",
    "layer = datasource.GetLayer()"
   ]
  },
  {
   "cell_type": "code",
   "execution_count": 10,
   "metadata": {},
   "outputs": [
    {
     "data": {
      "text/plain": [
       "<osgeo.ogr.Layer; proxy of <Swig Object of type 'OGRLayerShadow *' at 0x11df63c60> >"
      ]
     },
     "execution_count": 10,
     "metadata": {},
     "output_type": "execute_result"
    }
   ],
   "source": [
    "layer"
   ]
  },
  {
   "cell_type": "code",
   "execution_count": 11,
   "metadata": {},
   "outputs": [],
   "source": [
    "# get metadata\n",
    "pass"
   ]
  },
  {
   "cell_type": "code",
   "execution_count": 12,
   "metadata": {},
   "outputs": [
    {
     "name": "stdout",
     "output_type": "stream",
     "text": [
      "1\n",
      "glacier\n",
      "2\n",
      "debries\n",
      "3\n",
      "rock\n"
     ]
    }
   ],
   "source": [
    "# loop through the features in the layer\n",
    "\n",
    "feature = layer.GetNextFeature()\n",
    "i = 0\n",
    "while feature:\n",
    "    i += 1\n",
    "    print(i)\n",
    "    # get the attributes\n",
    "    # label_ = feature.GetFieldAsString('label')\n",
    "    note_ = feature.GetFieldAsString('note')\n",
    "    print(note_)\n",
    "    \n",
    "    # get the x,y coordinates\n",
    "    # geom = feature.GetGeometryRef()\n",
    "    # x = str(geom.GetX())\n",
    "    # y = str(geom.GetY())\n",
    "    \n",
    "    # destroy the feature and get a new one\n",
    "    feature.Destroy()\n",
    "    feature = layer.GetNextFeature()\n"
   ]
  },
  {
   "cell_type": "code",
   "execution_count": 13,
   "metadata": {},
   "outputs": [],
   "source": [
    "# close the data source and text file\n",
    "datasource.Destroy()"
   ]
  },
  {
   "cell_type": "markdown",
   "metadata": {},
   "source": [
    "### Creating vector (polygon centroids) "
   ]
  },
  {
   "cell_type": "code",
   "execution_count": 34,
   "metadata": {},
   "outputs": [
    {
     "data": {
      "text/plain": [
       "'/Users/lukas/Work/prfuk/vyuka/machine_learning_geosciences/src/geopython'"
      ]
     },
     "execution_count": 34,
     "metadata": {},
     "output_type": "execute_result"
    }
   ],
   "source": [
    "os.getcwd()"
   ]
  },
  {
   "cell_type": "code",
   "execution_count": 25,
   "metadata": {},
   "outputs": [],
   "source": [
    "# os.chdir(...)"
   ]
  },
  {
   "cell_type": "code",
   "execution_count": 20,
   "metadata": {},
   "outputs": [],
   "source": [
    "driver = ogr.GetDriverByName('ESRI Shapefile')"
   ]
  },
  {
   "cell_type": "code",
   "execution_count": 21,
   "metadata": {},
   "outputs": [],
   "source": [
    "# open the input data source and get the layer\n",
    "inDS = driver.Open(vector_fn, 0)\n",
    "if inDS is None:\n",
    "  print('Could not open file')\n",
    "  sys.exit(1)\n",
    "inLayer = inDS.GetLayer()"
   ]
  },
  {
   "cell_type": "code",
   "execution_count": 22,
   "metadata": {},
   "outputs": [
    {
     "data": {
      "text/plain": [
       "<osgeo.ogr.Layer; proxy of <Swig Object of type 'OGRLayerShadow *' at 0x1273e3e40> >"
      ]
     },
     "execution_count": 22,
     "metadata": {},
     "output_type": "execute_result"
    }
   ],
   "source": [
    "inLayer"
   ]
  },
  {
   "cell_type": "code",
   "execution_count": 23,
   "metadata": {},
   "outputs": [],
   "source": [
    "# create a new data source and layer\n",
    "\n",
    "fn = os.path.join(PATH, 'polygon_centroid.shp') \n",
    "if os.path.exists(fn):\n",
    "  driver.DeleteDataSource(fn)\n",
    "outDS = driver.CreateDataSource(fn)\n",
    "if outDS is None:\n",
    "  print('Could not create file')\n",
    "  sys.exit(1)\n",
    "outLayer = outDS.CreateLayer(fn, geom_type=ogr.wkbPoint)"
   ]
  },
  {
   "cell_type": "code",
   "execution_count": 24,
   "metadata": {},
   "outputs": [],
   "source": [
    "# get the FieldDefn's for the existing fields in the input shapefile\n",
    "feature = inLayer.GetFeature(0)\n",
    "labelFieldDefn = feature.GetFieldDefnRef('label')\n",
    "noteFieldDefn = feature.GetFieldDefnRef('note')"
   ]
  },
  {
   "cell_type": "code",
   "execution_count": 25,
   "metadata": {},
   "outputs": [
    {
     "data": {
      "text/plain": [
       "<osgeo.ogr.FieldDefn; proxy of <Swig Object of type 'OGRFieldDefnShadow *' at 0x114173570> >"
      ]
     },
     "execution_count": 25,
     "metadata": {},
     "output_type": "execute_result"
    }
   ],
   "source": [
    "labelFieldDefn"
   ]
  },
  {
   "cell_type": "code",
   "execution_count": 26,
   "metadata": {},
   "outputs": [
    {
     "data": {
      "text/plain": [
       "0"
      ]
     },
     "execution_count": 26,
     "metadata": {},
     "output_type": "execute_result"
    }
   ],
   "source": [
    "# create new fields in the output shapefile\n",
    "outLayer.CreateField(labelFieldDefn)\n",
    "outLayer.CreateField(noteFieldDefn)"
   ]
  },
  {
   "cell_type": "code",
   "execution_count": 27,
   "metadata": {},
   "outputs": [],
   "source": [
    "# get the FeatureDefn for the output layer\n",
    "featureDefn = outLayer.GetLayerDefn()"
   ]
  },
  {
   "cell_type": "code",
   "execution_count": 28,
   "metadata": {},
   "outputs": [],
   "source": [
    "# inFeature = inLayer.GetNextFeature()"
   ]
  },
  {
   "cell_type": "code",
   "execution_count": 29,
   "metadata": {},
   "outputs": [],
   "source": [
    "# geom = inFeature.GetGeometryRef()"
   ]
  },
  {
   "cell_type": "code",
   "execution_count": 30,
   "metadata": {},
   "outputs": [],
   "source": [
    "# centroid = geom.Centroid()"
   ]
  },
  {
   "cell_type": "code",
   "execution_count": 31,
   "metadata": {},
   "outputs": [],
   "source": [
    "# print(centroid.GetX(), centroid.GetY())"
   ]
  },
  {
   "cell_type": "code",
   "execution_count": 32,
   "metadata": {},
   "outputs": [],
   "source": [
    "# loop through the input features\n",
    "inFeature = inLayer.GetNextFeature()\n",
    "while inFeature:\n",
    "    # get the cover attribute for the input feature\n",
    "    label = inFeature.GetField('label')\n",
    "    \n",
    "    # create a new feature\n",
    "    outFeature = ogr.Feature(featureDefn)\n",
    "\n",
    "    # set the geometry\n",
    "    geom = inFeature.GetGeometryRef()\n",
    "    centroid = geom.Centroid()\n",
    "    centroid.GetX()\n",
    "    centroid.GetY()\n",
    "    \n",
    "    outFeature.SetGeometry(centroid)\n",
    "\n",
    "    # set the attributes\n",
    "    note = inFeature.GetField('note')\n",
    "    outFeature.SetField('label', label)\n",
    "    outFeature.SetField('note', note)\n",
    "\n",
    "    # add the feature to the output layer\n",
    "    outLayer.CreateFeature(outFeature)\n",
    "\n",
    "    # destroy the output feature\n",
    "    outFeature.Destroy()\n",
    "    \n",
    "    # destroy the input feature and get a new one\n",
    "    inFeature.Destroy()\n",
    "    inFeature = inLayer.GetNextFeature()"
   ]
  },
  {
   "cell_type": "code",
   "execution_count": 33,
   "metadata": {},
   "outputs": [],
   "source": [
    "# close the data sources\n",
    "inDS.Destroy()\n",
    "outDS.Destroy()"
   ]
  }
 ],
 "metadata": {
  "kernelspec": {
   "display_name": "Python 3 (ipykernel)",
   "language": "python",
   "name": "python3"
  },
  "language_info": {
   "codemirror_mode": {
    "name": "ipython",
    "version": 3
   },
   "file_extension": ".py",
   "mimetype": "text/x-python",
   "name": "python",
   "nbconvert_exporter": "python",
   "pygments_lexer": "ipython3",
   "version": "3.9.10"
  },
  "nav_menu": {
   "height": "252px",
   "width": "333px"
  },
  "toc": {
   "navigate_menu": true,
   "number_sections": true,
   "sideBar": true,
   "threshold": 6,
   "toc_cell": false,
   "toc_section_display": "block",
   "toc_window_display": false
  }
 },
 "nbformat": 4,
 "nbformat_minor": 1
}
